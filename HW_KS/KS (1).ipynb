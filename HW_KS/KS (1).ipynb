{
 "cells": [
  {
   "cell_type": "code",
   "execution_count": 71,
   "metadata": {
    "colab": {
     "base_uri": "https://localhost:8080/"
    },
    "id": "s5j2ioUq1beC",
    "outputId": "953e20a6-f67a-4967-f31a-77d960250575",
    "scrolled": true
   },
   "outputs": [
    {
     "name": "stdout",
     "output_type": "stream",
     "text": [
      "Looking in indexes: https://pypi.org/simple, https://us-python.pkg.dev/colab-wheels/public/simple/\n",
      "Requirement already satisfied: catboost in /usr/local/lib/python3.8/dist-packages (1.1.1)\n",
      "Requirement already satisfied: scipy in /usr/local/lib/python3.8/dist-packages (from catboost) (1.7.3)\n",
      "Requirement already satisfied: graphviz in /usr/local/lib/python3.8/dist-packages (from catboost) (0.10.1)\n",
      "Requirement already satisfied: numpy>=1.16.0 in /usr/local/lib/python3.8/dist-packages (from catboost) (1.21.6)\n",
      "Requirement already satisfied: plotly in /usr/local/lib/python3.8/dist-packages (from catboost) (5.5.0)\n",
      "Requirement already satisfied: six in /usr/local/lib/python3.8/dist-packages (from catboost) (1.15.0)\n",
      "Requirement already satisfied: matplotlib in /usr/local/lib/python3.8/dist-packages (from catboost) (3.2.2)\n",
      "Requirement already satisfied: pandas>=0.24.0 in /usr/local/lib/python3.8/dist-packages (from catboost) (1.3.5)\n",
      "Requirement already satisfied: python-dateutil>=2.7.3 in /usr/local/lib/python3.8/dist-packages (from pandas>=0.24.0->catboost) (2.8.2)\n",
      "Requirement already satisfied: pytz>=2017.3 in /usr/local/lib/python3.8/dist-packages (from pandas>=0.24.0->catboost) (2022.6)\n",
      "Requirement already satisfied: cycler>=0.10 in /usr/local/lib/python3.8/dist-packages (from matplotlib->catboost) (0.11.0)\n",
      "Requirement already satisfied: pyparsing!=2.0.4,!=2.1.2,!=2.1.6,>=2.0.1 in /usr/local/lib/python3.8/dist-packages (from matplotlib->catboost) (3.0.9)\n",
      "Requirement already satisfied: kiwisolver>=1.0.1 in /usr/local/lib/python3.8/dist-packages (from matplotlib->catboost) (1.4.4)\n",
      "Requirement already satisfied: tenacity>=6.2.0 in /usr/local/lib/python3.8/dist-packages (from plotly->catboost) (8.1.0)\n"
     ]
    }
   ],
   "source": [
    "!pip install catboost"
   ]
  },
  {
   "cell_type": "markdown",
   "metadata": {
    "id": "O1RfGOi5qwXn"
   },
   "source": [
    "Изначально импортируем необходимые библиотеки с прочитаем данные таблицы. В качестве моделей выберем CatBoostClassifier и модель OLS"
   ]
  },
  {
   "cell_type": "code",
   "execution_count": 1,
   "metadata": {
    "id": "6v3Evu1xplKA"
   },
   "outputs": [],
   "source": [
    "import pandas as pd\n",
    "import numpy as np\n",
    "import matplotlib.pyplot as plt\n",
    "import seaborn as sns\n",
    "import statsmodels.api as sm\n",
    "from catboost import CatBoostClassifier\n",
    "from sklearn.model_selection import train_test_split\n",
    "from sklearn.ensemble import RandomForestClassifier"
   ]
  },
  {
   "cell_type": "code",
   "execution_count": 2,
   "metadata": {
    "colab": {
     "base_uri": "https://localhost:8080/",
     "height": 337
    },
    "id": "rpYqMfrAq7G7",
    "outputId": "fbd5216d-d62b-44b4-eeac-64b0c94ed822"
   },
   "outputs": [
    {
     "data": {
      "text/html": [
       "<div>\n",
       "<style scoped>\n",
       "    .dataframe tbody tr th:only-of-type {\n",
       "        vertical-align: middle;\n",
       "    }\n",
       "\n",
       "    .dataframe tbody tr th {\n",
       "        vertical-align: top;\n",
       "    }\n",
       "\n",
       "    .dataframe thead th {\n",
       "        text-align: right;\n",
       "    }\n",
       "</style>\n",
       "<table border=\"1\" class=\"dataframe\">\n",
       "  <thead>\n",
       "    <tr style=\"text-align: right;\">\n",
       "      <th></th>\n",
       "      <th>id</th>\n",
       "      <th>ticket_id</th>\n",
       "      <th>ticket_type_nm</th>\n",
       "      <th>entrance_id</th>\n",
       "      <th>entrance_nm</th>\n",
       "      <th>station_id</th>\n",
       "      <th>station_nm</th>\n",
       "      <th>line_id</th>\n",
       "      <th>line_nm</th>\n",
       "      <th>pass_dttm</th>\n",
       "      <th>time_to_under</th>\n",
       "      <th>label</th>\n",
       "    </tr>\n",
       "  </thead>\n",
       "  <tbody>\n",
       "    <tr>\n",
       "      <th>0</th>\n",
       "      <td>1</td>\n",
       "      <td>40BD89EC85646EFB69E283F39C298E60</td>\n",
       "      <td>Пропуск FacePay</td>\n",
       "      <td>2402</td>\n",
       "      <td>Лефортово БКЛ</td>\n",
       "      <td>11007</td>\n",
       "      <td>Лефортово</td>\n",
       "      <td>11</td>\n",
       "      <td>Большая кольцевая</td>\n",
       "      <td>2022-09-12 05:00:13</td>\n",
       "      <td>216.316667</td>\n",
       "      <td>8001</td>\n",
       "    </tr>\n",
       "    <tr>\n",
       "      <th>1</th>\n",
       "      <td>2</td>\n",
       "      <td>126727A96489CC976A8C08E5CEB00542</td>\n",
       "      <td>СК учащегося 30 дней</td>\n",
       "      <td>110</td>\n",
       "      <td>Войковская ( Южный )</td>\n",
       "      <td>2006</td>\n",
       "      <td>Войковская</td>\n",
       "      <td>2</td>\n",
       "      <td>Замоскворецкая</td>\n",
       "      <td>2022-09-12 05:00:54</td>\n",
       "      <td>648.183333</td>\n",
       "      <td>9011</td>\n",
       "    </tr>\n",
       "    <tr>\n",
       "      <th>2</th>\n",
       "      <td>3</td>\n",
       "      <td>D28CE6A9E0E5B6D213470A97CFF32485</td>\n",
       "      <td>БСК дружинника г.Москвы</td>\n",
       "      <td>110</td>\n",
       "      <td>Войковская ( Южный )</td>\n",
       "      <td>2006</td>\n",
       "      <td>Войковская</td>\n",
       "      <td>2</td>\n",
       "      <td>Замоскворецкая</td>\n",
       "      <td>2022-09-12 05:00:55</td>\n",
       "      <td>865.333333</td>\n",
       "      <td>7022</td>\n",
       "    </tr>\n",
       "    <tr>\n",
       "      <th>3</th>\n",
       "      <td>4</td>\n",
       "      <td>015DA44B523C062B5BFEFF3FB0E64B9E</td>\n",
       "      <td>30 дней</td>\n",
       "      <td>110</td>\n",
       "      <td>Войковская ( Южный )</td>\n",
       "      <td>2006</td>\n",
       "      <td>Войковская</td>\n",
       "      <td>2</td>\n",
       "      <td>Замоскворецкая</td>\n",
       "      <td>2022-09-12 05:01:13</td>\n",
       "      <td>1048.233333</td>\n",
       "      <td>2022</td>\n",
       "    </tr>\n",
       "    <tr>\n",
       "      <th>4</th>\n",
       "      <td>5</td>\n",
       "      <td>95B19C6F3A504727AC3EA56EB7E3E80F</td>\n",
       "      <td>КОШЕЛЕК</td>\n",
       "      <td>110</td>\n",
       "      <td>Войковская ( Южный )</td>\n",
       "      <td>2006</td>\n",
       "      <td>Войковская</td>\n",
       "      <td>2</td>\n",
       "      <td>Замоскворецкая</td>\n",
       "      <td>2022-09-12 05:02:55</td>\n",
       "      <td>965.600000</td>\n",
       "      <td>2017</td>\n",
       "    </tr>\n",
       "  </tbody>\n",
       "</table>\n",
       "</div>"
      ],
      "text/plain": [
       "   id                         ticket_id           ticket_type_nm  entrance_id  \\\n",
       "0   1  40BD89EC85646EFB69E283F39C298E60          Пропуск FacePay         2402   \n",
       "1   2  126727A96489CC976A8C08E5CEB00542     СК учащегося 30 дней          110   \n",
       "2   3  D28CE6A9E0E5B6D213470A97CFF32485  БСК дружинника г.Москвы          110   \n",
       "3   4  015DA44B523C062B5BFEFF3FB0E64B9E                  30 дней          110   \n",
       "4   5  95B19C6F3A504727AC3EA56EB7E3E80F                  КОШЕЛЕК          110   \n",
       "\n",
       "            entrance_nm  station_id  station_nm  line_id            line_nm  \\\n",
       "0         Лефортово БКЛ       11007   Лефортово       11  Большая кольцевая   \n",
       "1  Войковская ( Южный )        2006  Войковская        2     Замоскворецкая   \n",
       "2  Войковская ( Южный )        2006  Войковская        2     Замоскворецкая   \n",
       "3  Войковская ( Южный )        2006  Войковская        2     Замоскворецкая   \n",
       "4  Войковская ( Южный )        2006  Войковская        2     Замоскворецкая   \n",
       "\n",
       "             pass_dttm  time_to_under  label  \n",
       "0  2022-09-12 05:00:13     216.316667   8001  \n",
       "1  2022-09-12 05:00:54     648.183333   9011  \n",
       "2  2022-09-12 05:00:55     865.333333   7022  \n",
       "3  2022-09-12 05:01:13    1048.233333   2022  \n",
       "4  2022-09-12 05:02:55     965.600000   2017  "
      ]
     },
     "execution_count": 2,
     "metadata": {},
     "output_type": "execute_result"
    }
   ],
   "source": [
    "df = pd.read_csv('train_dataset_train.csv')\n",
    "df.head()"
   ]
  },
  {
   "cell_type": "markdown",
   "metadata": {
    "id": "g3-6myvZrH0R"
   },
   "source": [
    "Рассмотрим его подробнее, а именно размер, число уникальных значений и скажем о смысле каждой колонки"
   ]
  },
  {
   "cell_type": "code",
   "execution_count": 3,
   "metadata": {
    "colab": {
     "base_uri": "https://localhost:8080/",
     "height": 493
    },
    "id": "nt8vix3-rXeq",
    "outputId": "a02c63f9-d5a9-4437-9baf-1d57d687b73a"
   },
   "outputs": [
    {
     "data": {
      "text/html": [
       "<div>\n",
       "<style scoped>\n",
       "    .dataframe tbody tr th:only-of-type {\n",
       "        vertical-align: middle;\n",
       "    }\n",
       "\n",
       "    .dataframe tbody tr th {\n",
       "        vertical-align: top;\n",
       "    }\n",
       "\n",
       "    .dataframe thead th {\n",
       "        text-align: right;\n",
       "    }\n",
       "</style>\n",
       "<table border=\"1\" class=\"dataframe\">\n",
       "  <thead>\n",
       "    <tr style=\"text-align: right;\">\n",
       "      <th></th>\n",
       "      <th>id</th>\n",
       "      <th>ticket_id</th>\n",
       "      <th>ticket_type_nm</th>\n",
       "      <th>entrance_id</th>\n",
       "      <th>entrance_nm</th>\n",
       "      <th>station_id</th>\n",
       "      <th>station_nm</th>\n",
       "      <th>line_id</th>\n",
       "      <th>line_nm</th>\n",
       "      <th>pass_dttm</th>\n",
       "      <th>time_to_under</th>\n",
       "      <th>label</th>\n",
       "    </tr>\n",
       "  </thead>\n",
       "  <tbody>\n",
       "    <tr>\n",
       "      <th>count</th>\n",
       "      <td>1.091021e+06</td>\n",
       "      <td>1091021</td>\n",
       "      <td>1091021</td>\n",
       "      <td>1.091021e+06</td>\n",
       "      <td>1091021</td>\n",
       "      <td>1.091021e+06</td>\n",
       "      <td>1091021</td>\n",
       "      <td>1.091021e+06</td>\n",
       "      <td>1091021</td>\n",
       "      <td>1091021</td>\n",
       "      <td>1.091021e+06</td>\n",
       "      <td>1.091021e+06</td>\n",
       "    </tr>\n",
       "    <tr>\n",
       "      <th>unique</th>\n",
       "      <td>NaN</td>\n",
       "      <td>335533</td>\n",
       "      <td>60</td>\n",
       "      <td>NaN</td>\n",
       "      <td>426</td>\n",
       "      <td>NaN</td>\n",
       "      <td>245</td>\n",
       "      <td>NaN</td>\n",
       "      <td>16</td>\n",
       "      <td>297040</td>\n",
       "      <td>NaN</td>\n",
       "      <td>NaN</td>\n",
       "    </tr>\n",
       "    <tr>\n",
       "      <th>top</th>\n",
       "      <td>NaN</td>\n",
       "      <td>7992E92F9AE0F7506BD439547FD7E11F</td>\n",
       "      <td>КОШЕЛЕК</td>\n",
       "      <td>NaN</td>\n",
       "      <td>Щёлковская ( Северный )</td>\n",
       "      <td>NaN</td>\n",
       "      <td>Щёлковская</td>\n",
       "      <td>NaN</td>\n",
       "      <td>Таганско-Краснопресненская</td>\n",
       "      <td>2022-09-12 08:20:09</td>\n",
       "      <td>NaN</td>\n",
       "      <td>NaN</td>\n",
       "    </tr>\n",
       "    <tr>\n",
       "      <th>freq</th>\n",
       "      <td>NaN</td>\n",
       "      <td>8</td>\n",
       "      <td>262499</td>\n",
       "      <td>NaN</td>\n",
       "      <td>17810</td>\n",
       "      <td>NaN</td>\n",
       "      <td>22133</td>\n",
       "      <td>NaN</td>\n",
       "      <td>156031</td>\n",
       "      <td>29</td>\n",
       "      <td>NaN</td>\n",
       "      <td>NaN</td>\n",
       "    </tr>\n",
       "    <tr>\n",
       "      <th>mean</th>\n",
       "      <td>5.455110e+05</td>\n",
       "      <td>NaN</td>\n",
       "      <td>NaN</td>\n",
       "      <td>8.581884e+02</td>\n",
       "      <td>NaN</td>\n",
       "      <td>8.601452e+03</td>\n",
       "      <td>NaN</td>\n",
       "      <td>8.590013e+00</td>\n",
       "      <td>NaN</td>\n",
       "      <td>NaN</td>\n",
       "      <td>5.104668e+02</td>\n",
       "      <td>7.723527e+03</td>\n",
       "    </tr>\n",
       "    <tr>\n",
       "      <th>std</th>\n",
       "      <td>3.149508e+05</td>\n",
       "      <td>NaN</td>\n",
       "      <td>NaN</td>\n",
       "      <td>9.003577e+02</td>\n",
       "      <td>NaN</td>\n",
       "      <td>1.247133e+04</td>\n",
       "      <td>NaN</td>\n",
       "      <td>1.247157e+01</td>\n",
       "      <td>NaN</td>\n",
       "      <td>NaN</td>\n",
       "      <td>2.328452e+02</td>\n",
       "      <td>1.167015e+04</td>\n",
       "    </tr>\n",
       "    <tr>\n",
       "      <th>min</th>\n",
       "      <td>1.000000e+00</td>\n",
       "      <td>NaN</td>\n",
       "      <td>NaN</td>\n",
       "      <td>2.000000e+01</td>\n",
       "      <td>NaN</td>\n",
       "      <td>1.002000e+03</td>\n",
       "      <td>NaN</td>\n",
       "      <td>1.000000e+00</td>\n",
       "      <td>NaN</td>\n",
       "      <td>NaN</td>\n",
       "      <td>3.001667e+01</td>\n",
       "      <td>1.002000e+03</td>\n",
       "    </tr>\n",
       "    <tr>\n",
       "      <th>25%</th>\n",
       "      <td>2.727560e+05</td>\n",
       "      <td>NaN</td>\n",
       "      <td>NaN</td>\n",
       "      <td>2.150000e+02</td>\n",
       "      <td>NaN</td>\n",
       "      <td>3.018000e+03</td>\n",
       "      <td>NaN</td>\n",
       "      <td>3.000000e+00</td>\n",
       "      <td>NaN</td>\n",
       "      <td>NaN</td>\n",
       "      <td>3.229500e+02</td>\n",
       "      <td>3.006000e+03</td>\n",
       "    </tr>\n",
       "    <tr>\n",
       "      <th>50%</th>\n",
       "      <td>5.455110e+05</td>\n",
       "      <td>NaN</td>\n",
       "      <td>NaN</td>\n",
       "      <td>3.370000e+02</td>\n",
       "      <td>NaN</td>\n",
       "      <td>7.009000e+03</td>\n",
       "      <td>NaN</td>\n",
       "      <td>7.000000e+00</td>\n",
       "      <td>NaN</td>\n",
       "      <td>NaN</td>\n",
       "      <td>5.686833e+02</td>\n",
       "      <td>6.013000e+03</td>\n",
       "    </tr>\n",
       "    <tr>\n",
       "      <th>75%</th>\n",
       "      <td>8.182660e+05</td>\n",
       "      <td>NaN</td>\n",
       "      <td>NaN</td>\n",
       "      <td>2.087000e+03</td>\n",
       "      <td>NaN</td>\n",
       "      <td>9.022000e+03</td>\n",
       "      <td>NaN</td>\n",
       "      <td>9.000000e+00</td>\n",
       "      <td>NaN</td>\n",
       "      <td>NaN</td>\n",
       "      <td>6.838833e+02</td>\n",
       "      <td>9.012000e+03</td>\n",
       "    </tr>\n",
       "    <tr>\n",
       "      <th>max</th>\n",
       "      <td>1.091021e+06</td>\n",
       "      <td>NaN</td>\n",
       "      <td>NaN</td>\n",
       "      <td>2.466000e+03</td>\n",
       "      <td>NaN</td>\n",
       "      <td>8.101600e+04</td>\n",
       "      <td>NaN</td>\n",
       "      <td>8.100000e+01</td>\n",
       "      <td>NaN</td>\n",
       "      <td>NaN</td>\n",
       "      <td>1.437417e+03</td>\n",
       "      <td>8.101600e+04</td>\n",
       "    </tr>\n",
       "  </tbody>\n",
       "</table>\n",
       "</div>"
      ],
      "text/plain": [
       "                  id                         ticket_id ticket_type_nm  \\\n",
       "count   1.091021e+06                           1091021        1091021   \n",
       "unique           NaN                            335533             60   \n",
       "top              NaN  7992E92F9AE0F7506BD439547FD7E11F        КОШЕЛЕК   \n",
       "freq             NaN                                 8         262499   \n",
       "mean    5.455110e+05                               NaN            NaN   \n",
       "std     3.149508e+05                               NaN            NaN   \n",
       "min     1.000000e+00                               NaN            NaN   \n",
       "25%     2.727560e+05                               NaN            NaN   \n",
       "50%     5.455110e+05                               NaN            NaN   \n",
       "75%     8.182660e+05                               NaN            NaN   \n",
       "max     1.091021e+06                               NaN            NaN   \n",
       "\n",
       "         entrance_id              entrance_nm    station_id  station_nm  \\\n",
       "count   1.091021e+06                  1091021  1.091021e+06     1091021   \n",
       "unique           NaN                      426           NaN         245   \n",
       "top              NaN  Щёлковская ( Северный )           NaN  Щёлковская   \n",
       "freq             NaN                    17810           NaN       22133   \n",
       "mean    8.581884e+02                      NaN  8.601452e+03         NaN   \n",
       "std     9.003577e+02                      NaN  1.247133e+04         NaN   \n",
       "min     2.000000e+01                      NaN  1.002000e+03         NaN   \n",
       "25%     2.150000e+02                      NaN  3.018000e+03         NaN   \n",
       "50%     3.370000e+02                      NaN  7.009000e+03         NaN   \n",
       "75%     2.087000e+03                      NaN  9.022000e+03         NaN   \n",
       "max     2.466000e+03                      NaN  8.101600e+04         NaN   \n",
       "\n",
       "             line_id                     line_nm            pass_dttm  \\\n",
       "count   1.091021e+06                     1091021              1091021   \n",
       "unique           NaN                          16               297040   \n",
       "top              NaN  Таганско-Краснопресненская  2022-09-12 08:20:09   \n",
       "freq             NaN                      156031                   29   \n",
       "mean    8.590013e+00                         NaN                  NaN   \n",
       "std     1.247157e+01                         NaN                  NaN   \n",
       "min     1.000000e+00                         NaN                  NaN   \n",
       "25%     3.000000e+00                         NaN                  NaN   \n",
       "50%     7.000000e+00                         NaN                  NaN   \n",
       "75%     9.000000e+00                         NaN                  NaN   \n",
       "max     8.100000e+01                         NaN                  NaN   \n",
       "\n",
       "        time_to_under         label  \n",
       "count    1.091021e+06  1.091021e+06  \n",
       "unique            NaN           NaN  \n",
       "top               NaN           NaN  \n",
       "freq              NaN           NaN  \n",
       "mean     5.104668e+02  7.723527e+03  \n",
       "std      2.328452e+02  1.167015e+04  \n",
       "min      3.001667e+01  1.002000e+03  \n",
       "25%      3.229500e+02  3.006000e+03  \n",
       "50%      5.686833e+02  6.013000e+03  \n",
       "75%      6.838833e+02  9.012000e+03  \n",
       "max      1.437417e+03  8.101600e+04  "
      ]
     },
     "execution_count": 3,
     "metadata": {},
     "output_type": "execute_result"
    }
   ],
   "source": [
    "df.describe(include='all')"
   ]
  },
  {
   "cell_type": "markdown",
   "metadata": {
    "id": "HBVk6T8Brial"
   },
   "source": [
    "Исходя из  общего описания таблицы, можно сделать вывод о том, что данные ticket_id не применимы в условиях решения нашей задачи. Также удалим дублирующие колонки."
   ]
  },
  {
   "cell_type": "code",
   "execution_count": 4,
   "metadata": {
    "id": "dM1w-XworhwE"
   },
   "outputs": [],
   "source": [
    "df.drop(columns=['entrance_id','station_id','line_id','id'],inplace=True)"
   ]
  },
  {
   "cell_type": "markdown",
   "metadata": {
    "id": "MlnBX-O5slVS"
   },
   "source": [
    "Глянем на пропуски и удалим если они есть"
   ]
  },
  {
   "cell_type": "code",
   "execution_count": 5,
   "metadata": {
    "colab": {
     "base_uri": "https://localhost:8080/"
    },
    "id": "koWhCLX6snST",
    "outputId": "89689589-ae8e-4df1-9def-dc4b050dfa7f"
   },
   "outputs": [
    {
     "data": {
      "text/plain": [
       "ticket_id         0\n",
       "ticket_type_nm    0\n",
       "entrance_nm       0\n",
       "station_nm        0\n",
       "line_nm           0\n",
       "pass_dttm         0\n",
       "time_to_under     0\n",
       "label             0\n",
       "dtype: int64"
      ]
     },
     "execution_count": 5,
     "metadata": {},
     "output_type": "execute_result"
    }
   ],
   "source": [
    "df.isnull().sum()"
   ]
  },
  {
   "cell_type": "code",
   "execution_count": 6,
   "metadata": {
    "id": "hiSqsi-esvVI"
   },
   "outputs": [],
   "source": [
    "df.dropna(inplace=True)"
   ]
  },
  {
   "cell_type": "markdown",
   "metadata": {
    "id": "5F1ker_EtP8s"
   },
   "source": [
    "Так как id билета для каждого пользователя уникален, то нет смысла его оставлять в обучающей выборки - удалим его."
   ]
  },
  {
   "cell_type": "code",
   "execution_count": 7,
   "metadata": {
    "id": "WjnyieWrtbcy"
   },
   "outputs": [],
   "source": [
    "df.drop(columns=['ticket_id'], inplace=True)"
   ]
  },
  {
   "cell_type": "markdown",
   "metadata": {
    "id": "MRVRp3U1tijv"
   },
   "source": [
    "Обработка таблицы закончена, приступим к задаче регрессии для предсказания времени следующей валидации"
   ]
  },
  {
   "cell_type": "code",
   "execution_count": 21,
   "metadata": {},
   "outputs": [
    {
     "data": {
      "text/plain": [
       "<AxesSubplot:>"
      ]
     },
     "execution_count": 21,
     "metadata": {},
     "output_type": "execute_result"
    },
    {
     "data": {
      "image/png": "[encoded data removed]",
      "text/plain": [
       "<Figure size 640x480 with 1 Axes>"
      ]
     },
     "metadata": {},
     "output_type": "display_data"
    }
   ],
   "source": [
    "df['time_to_under'].hist()"
   ]
  },
  {
   "cell_type": "code",
   "execution_count": null,
   "metadata": {},
   "outputs": [],
   "source": [
    "Создадим функцию для приведения таблицы к единому виду:"
   ]
  },
  {
   "cell_type": "code",
   "execution_count": 8,
   "metadata": {
    "id": "rgM9u6ovvNTH"
   },
   "outputs": [],
   "source": [
    "def time_preprocess_r(df):\n",
    "    df['day'] = df.pass_dttm.dt.dayofweek #день недели\n",
    "    df['hour'] = df.pass_dttm.dt.hour # час в формате 24\n",
    "    df['workday'] = df['day'].apply(lambda x: 0 if x == 5 or x == 6 else 1)\n",
    "    df = df.drop(columns=['pass_dttm','entrance_nm','station_nm','line_nm','ticket_type_nm','label'])\n",
    "    return df"
   ]
  },
  {
   "cell_type": "code",
   "execution_count": null,
   "metadata": {},
   "outputs": [],
   "source": [
    "Далее предскажем время следующей валидации с помощью OLS"
   ]
  },
  {
   "cell_type": "code",
   "execution_count": 9,
   "metadata": {
    "colab": {
     "base_uri": "https://localhost:8080/"
    },
    "id": "k1nmmmpCtni7",
    "outputId": "c58b7504-d88b-4d2f-ec57-76088b5eb029"
   },
   "outputs": [],
   "source": [
    "df.pass_dttm = pd.to_datetime(df.pass_dttm)\n",
    "df = sm.add_constant(df)\n",
    "x_regress_train, x_regress_test, y_regress_train, y_regress_test = train_test_split(df.drop(columns=['time_to_under']), df[['time_to_under']], test_size=0.3)\n",
    "x_regress_train = time_preprocess_r(x_regress_train)\n",
    "x_regress_test = time_preprocess_r(x_regress_test)\n",
    "\n",
    "model_regression = sm.OLS(y_regress_train,x_regress_train)\n",
    "model_regression=model_regression.fit()\n",
    "forecast_regression= model_regression.predict(x_regress_test)"
   ]
  },
  {
   "cell_type": "markdown",
   "metadata": {
    "id": "V_fxVDm2v98r"
   },
   "source": [
    "Далее решим задачу классификации:"
   ]
  },
  {
   "cell_type": "code",
   "execution_count": 11,
   "metadata": {
    "id": "2BWU5FW7wMBK"
   },
   "outputs": [],
   "source": [
    "def time_preprocess_c(df):\n",
    "    df['day'] = df.pass_dttm.dt.dayofweek #день недели\n",
    "    df['hour'] = df.pass_dttm.dt.hour # час в формате 24\n",
    "    df['workday'] = df['day'].apply(lambda x: 0 if x == 5 or x == 6 else 1)\n",
    "\n",
    "   # df['name_workday'] = df['day'].apply(lambda x : 'holiday' if x == 5 or x ==6  else 'work')\n",
    "\n",
    "    df = df.drop(columns=['pass_dttm','day','hour'])\n",
    "    return df"
   ]
  },
  {
   "cell_type": "code",
   "execution_count": null,
   "metadata": {},
   "outputs": [],
   "source": [
    "Возьмем для обучения 10000 строк, создадим таблицу из этих значений, преобразуем к специальному виду и предскажем для 250 строк."
   ]
  },
  {
   "cell_type": "code",
   "execution_count": 17,
   "metadata": {
    "colab": {
     "base_uri": "https://localhost:8080/"
    },
    "id": "isIQIIxpwT3_",
    "outputId": "9fe1fc29-979c-4043-d586-745bfba1ec1c"
   },
   "outputs": [
    {
     "name": "stdout",
     "output_type": "stream",
     "text": [
      "Learning rate set to 0.5\n",
      "0:\tlearn: 5.3375006\ttotal: 1m 25s\tremaining: 12m 45s\n",
      "1:\tlearn: 5.1560095\ttotal: 2m 48s\tremaining: 11m 12s\n",
      "2:\tlearn: 5.1692189\ttotal: 4m 11s\tremaining: 9m 47s\n",
      "3:\tlearn: 4.9770172\ttotal: 5m 35s\tremaining: 8m 22s\n",
      "4:\tlearn: 4.8987697\ttotal: 6m 57s\tremaining: 6m 57s\n",
      "5:\tlearn: 4.8018424\ttotal: 8m 22s\tremaining: 5m 35s\n",
      "6:\tlearn: 4.7751913\ttotal: 9m 49s\tremaining: 4m 12s\n",
      "7:\tlearn: 4.7359671\ttotal: 11m 14s\tremaining: 2m 48s\n",
      "8:\tlearn: 4.6597006\ttotal: 12m 38s\tremaining: 1m 24s\n",
      "9:\tlearn: 4.6385967\ttotal: 14m 9s\tremaining: 0us\n"
     ]
    }
   ],
   "source": [
    "df.pass_dttm = pd.to_datetime(df.pass_dttm)\n",
    "\n",
    "x_class_train = df.drop(columns=['label'])[:10000]\n",
    "y_class_train = df[['label']][:10000]\n",
    "\n",
    "\n",
    "test_class = df.loc[df.ticket_type_nm.isin(x_class_train.ticket_type_nm)&\n",
    "                    df.entrance_nm.isin(x_class_train.entrance_nm) &\n",
    "                    df.station_nm.isin(x_class_train.station_nm) &\n",
    "                    df.line_nm.isin(x_class_train.line_nm) ]\n",
    "\n",
    "x_class_test = test_class.drop(columns=['label'])[-250:]\n",
    "y_class_test = test_class[['label']][-250:]\n",
    "\n",
    "x_class_train = time_preprocess_c(x_class_train)\n",
    "x_class_test = time_preprocess_c(x_class_test)\n",
    "\n",
    "\n",
    "model_class = CatBoostClassifier(iterations = 10)\n",
    "model_class.fit(x_class_train,y_class_train, cat_features=['workday','ticket_type_nm','entrance_nm','station_nm','line_nm'])\n",
    "forecast_class= model_class.predict(x_class_test)\n"
   ]
  },
  {
   "cell_type": "markdown",
   "metadata": {
    "id": "yIe9HzXnx268"
   },
   "source": [
    "Расчитаем необходимые метрики"
   ]
  },
  {
   "cell_type": "code",
   "execution_count": 18,
   "metadata": {
    "id": "i7XCxGihx5x1"
   },
   "outputs": [],
   "source": [
    "from sklearn.metrics import r2_score, recall_score, mean_absolute_percentage_error\n",
    "def result(actual_class, forecast_class, actual_regress, forecast_regress):\n",
    "    print(r2_score(actual_regress, forecast_regress))\n",
    "    print(recall_score(actual_class, forecast_class, average='micro'))\n",
    "    return 0.5 * r2_score(actual_regress, forecast_regress) + 0.5 * recall_score(actual_class, forecast_class, average='micro')\n"
   ]
  },
  {
   "cell_type": "code",
   "execution_count": 19,
   "metadata": {
    "colab": {
     "base_uri": "https://localhost:8080/"
    },
    "id": "9fpYMbIIx_w0",
    "outputId": "9c285628-a304-41fa-dae3-d5ddeb611573"
   },
   "outputs": [
    {
     "name": "stdout",
     "output_type": "stream",
     "text": [
      "0.46381549846365655\n",
      "0.012\n",
      "result:  0.23790774923182828\n"
     ]
    }
   ],
   "source": [
    "print('result: ', result(y_class_test, forecast_class, y_regress_test, forecast_regression))"
   ]
  },
  {
   "cell_type": "code",
   "execution_count": null,
   "metadata": {},
   "outputs": [],
   "source": []
  }
 ],
 "metadata": {
  "colab": {
   "provenance": []
  },
  "kernelspec": {
   "display_name": "Python 3 (ipykernel)",
   "language": "python",
   "name": "python3"
  },
  "language_info": {
   "codemirror_mode": {
    "name": "ipython",
    "version": 3
   },
   "file_extension": ".py",
   "mimetype": "text/x-python",
   "name": "python",
   "nbconvert_exporter": "python",
   "pygments_lexer": "ipython3",
   "version": "3.9.13"
  }
 },
 "nbformat": 4,
 "nbformat_minor": 1
}
